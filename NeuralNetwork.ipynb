{
 "cells": [
  {
   "cell_type": "code",
   "execution_count": 1,
   "metadata": {},
   "outputs": [],
   "source": [
    "import numpy as np\n",
    "import pandas as pd"
   ]
  },
  {
   "cell_type": "code",
   "execution_count": 2,
   "metadata": {},
   "outputs": [],
   "source": [
    "def sigmoid(z):\n",
    "    return (1.0 / (1.0 + np.exp(-z)))"
   ]
  },
  {
   "cell_type": "code",
   "execution_count": 3,
   "metadata": {},
   "outputs": [],
   "source": [
    "class NeuralNetwork:\n",
    "    def __init__ (self, x, y, h):\n",
    "        self.a0 = x\n",
    "        self.y = y\n",
    "        self.h = h   # h is the number of units in the hidden layer\n",
    "        self.m = self.a0.shape[0]\n",
    "        self.n = self.a0.shape[1]\n",
    "        self.alpha = 1.2\n",
    "        self.weights1 = np.random.randn(self.n, self.h) * 0.01\n",
    "        self.weights2 = np.random.randn(self.h, 1) * 0.01\n",
    "        self.bias1 = np.zeros((1, self.h))\n",
    "        self.bias2 = np.zeros((1, 1))\n",
    "    \n",
    "    def feedforward(self):\n",
    "        self.z1 = np.dot(self.a0, self.weights1) + self.bias1\n",
    "        self.a1 = sigmoid(self.z1)\n",
    "        self.z2 = np.dot(self.a1, self.weights2) + self.bias2\n",
    "        self.a2 = sigmoid(self.z2)\n",
    "    \n",
    "    def backprop(self):\n",
    "        self.cost = -(np.dot(np.transpose(self.y), np.log(self.a2)) + np.dot((1 - (np.transpose(self.y))),(np.log(1-self.a2))))\n",
    "        self.dz2 = self.a2 - self.y\n",
    "        self.dw2 = np.dot(np.transpose(self.a1), self.dz2)/(float(self.m))\n",
    "        self.b2 = np.sum(self.dz2, axis = 0, keepdims = True)/(float(self.m))\n",
    "        self.dz1 = np.multiply(np.multiply(self.a1, (1 - self.a1)), np.dot(self.dz2, np.transpose(self.weights2)))\n",
    "        self.dw1 = np.dot(np.transpose(self.a0), self.dz1)/(float(self.m))\n",
    "        self.b1 =  np.sum(self.dz1, axis = 0, keepdims = True)/(float(self.m))\n",
    "        self.weights1 = self.weights1 - (self.alpha * self.dw1)\n",
    "        self.bias1 = self.bias1 - (self.alpha * self.b1)\n",
    "        self.weights2 = self.weights2 - (self.alpha * self.dw2)\n",
    "        self.bias2 = self.bias2 - (self.alpha * self.b2)\n",
    "        \n",
    "    def predict(self, x_test):\n",
    "        self.z1 = np.dot(x_test, self.weights1) + self.bias1\n",
    "        self.a1 = sigmoid(self.z1)\n",
    "        self.z2 = np.dot(self.a1, self.weights2) + self.bias2\n",
    "        self.a2 = sigmoid(self.z2)\n",
    "        return self.a2"
   ]
  },
  {
   "cell_type": "markdown",
   "metadata": {},
   "source": [
    "### AND Gate using Neural Network"
   ]
  },
  {
   "cell_type": "code",
   "execution_count": 4,
   "metadata": {},
   "outputs": [],
   "source": [
    "x = np.array([[0, 0], \n",
    "              [0, 1], \n",
    "              [1, 0], \n",
    "              [1, 1]])\n",
    "y = np.array([[0], \n",
    "              [0], \n",
    "              [0], \n",
    "              [1]])"
   ]
  },
  {
   "cell_type": "code",
   "execution_count": 5,
   "metadata": {},
   "outputs": [],
   "source": [
    "NN = NeuralNetwork(x, y, 3)"
   ]
  },
  {
   "cell_type": "code",
   "execution_count": 6,
   "metadata": {},
   "outputs": [],
   "source": [
    "NN.feedforward()"
   ]
  },
  {
   "cell_type": "code",
   "execution_count": 7,
   "metadata": {},
   "outputs": [],
   "source": [
    "NN.backprop()"
   ]
  },
  {
   "cell_type": "code",
   "execution_count": 8,
   "metadata": {},
   "outputs": [
    {
     "name": "stdout",
     "output_type": "stream",
     "text": [
      "[[1.03425479e-06]\n",
      " [1.73756912e-04]\n",
      " [1.73745920e-04]\n",
      " [9.99310878e-01]]\n"
     ]
    }
   ],
   "source": [
    "for i in range(10000):\n",
    "    NN.feedforward()\n",
    "    NN.backprop()\n",
    "    \n",
    "print(NN.a2)"
   ]
  },
  {
   "cell_type": "markdown",
   "metadata": {},
   "source": [
    "### Predicting a Pulsar Star"
   ]
  },
  {
   "cell_type": "code",
   "execution_count": 147,
   "metadata": {},
   "outputs": [],
   "source": [
    "# Importing the dataset\n",
    "\n",
    "dataset = pd.read_csv('C:/Users/A1791729/Desktop/MyProject/Datasets/predicting-a-pulsar-star/pulsar_stars.csv')"
   ]
  },
  {
   "cell_type": "code",
   "execution_count": 148,
   "metadata": {},
   "outputs": [],
   "source": [
    "X = dataset.iloc[:, 0:8].values\n",
    "y = dataset.iloc[:, 8].values"
   ]
  },
  {
   "cell_type": "code",
   "execution_count": 149,
   "metadata": {},
   "outputs": [],
   "source": [
    "# Splitting the dataset into the Training set and Test set\n",
    "\n",
    "from sklearn.model_selection import train_test_split\n",
    "\n",
    "X_train, X_test, y_train, y_test = train_test_split(X, y, test_size = 0.2, random_state = 0)\n",
    "\n",
    "y_train = np.reshape(y_train,newshape=(len(y_train),1))\n",
    "y_test = np.reshape(y_test,newshape=(len(y_test),1))"
   ]
  },
  {
   "cell_type": "code",
   "execution_count": 150,
   "metadata": {},
   "outputs": [],
   "source": [
    "# Feature Scaling\n",
    "\n",
    "from sklearn.preprocessing import StandardScaler\n",
    "\n",
    "sc = StandardScaler()\n",
    "X_train = sc.fit_transform(X_train)\n",
    "X_test = sc.transform(X_test)"
   ]
  },
  {
   "cell_type": "code",
   "execution_count": 176,
   "metadata": {},
   "outputs": [],
   "source": [
    "PulsarNN = NeuralNetwork(X_train, y_train, 10)"
   ]
  },
  {
   "cell_type": "code",
   "execution_count": 177,
   "metadata": {},
   "outputs": [
    {
     "name": "stdout",
     "output_type": "stream",
     "text": [
      "Cost after iteration 0: 9858.447123\n",
      "Cost after iteration 1000: 1096.130015\n",
      "Cost after iteration 2000: 1060.132355\n",
      "Cost after iteration 3000: 1039.521614\n",
      "Cost after iteration 4000: 1023.863826\n",
      "Cost after iteration 5000: 1012.814112\n",
      "Cost after iteration 6000: 1005.430937\n",
      "Cost after iteration 7000: 999.633369\n",
      "Cost after iteration 8000: 994.237740\n",
      "Cost after iteration 9000: 988.745271\n"
     ]
    }
   ],
   "source": [
    "for i in range(10000):\n",
    "    PulsarNN.feedforward()\n",
    "    PulsarNN.backprop()\n",
    "    \n",
    "    if i % 1000 == 0:\n",
    "        print (\"Cost after iteration %i: %f\" %(i, PulsarNN.cost))"
   ]
  },
  {
   "cell_type": "code",
   "execution_count": 178,
   "metadata": {},
   "outputs": [],
   "source": [
    "y_pred = PulsarNN.predict(X_test)"
   ]
  },
  {
   "cell_type": "code",
   "execution_count": 183,
   "metadata": {},
   "outputs": [],
   "source": [
    "pred = (y_pred > 0.5)"
   ]
  },
  {
   "cell_type": "code",
   "execution_count": 200,
   "metadata": {},
   "outputs": [
    {
     "name": "stdout",
     "output_type": "stream",
     "text": [
      "Accuracy: 98%\n"
     ]
    }
   ],
   "source": [
    "# Print accuracy\n",
    "print ('Accuracy: %d' % float((np.dot(y_test.T,pred) + np.dot(1-y_test.T,1-pred))/float(y_test.size)*100) + '%')"
   ]
  },
  {
   "cell_type": "code",
   "execution_count": null,
   "metadata": {},
   "outputs": [],
   "source": []
  }
 ],
 "metadata": {
  "kernelspec": {
   "display_name": "Python 2",
   "language": "python",
   "name": "python2"
  },
  "language_info": {
   "codemirror_mode": {
    "name": "ipython",
    "version": 2
   },
   "file_extension": ".py",
   "mimetype": "text/x-python",
   "name": "python",
   "nbconvert_exporter": "python",
   "pygments_lexer": "ipython2",
   "version": "2.7.14"
  }
 },
 "nbformat": 4,
 "nbformat_minor": 2
}
